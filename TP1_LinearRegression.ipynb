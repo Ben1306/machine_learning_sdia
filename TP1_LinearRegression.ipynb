{
 "cells": [
  {
   "cell_type": "markdown",
   "metadata": {},
   "source": [
    "# TP1 : Linear regression"
   ]
  },
  {
   "cell_type": "markdown",
   "metadata": {},
   "source": [
    "The purpose of this work is to implement least square linear regression to medical data. The problem is based on an example described in the book by Hastie & Tibshirani (2009) pp. 3-4 & 49-63. Data come from a study published by Stamey et al. (1989). This study aims at the prediction of the level of prostate specific antigen, denoted by `lpsa` below, from the\n",
    "results of clinical exams. These exams are carried out before a possible\n",
    "prostatectomy.\n",
    "\n",
    "The measurements are log cancer volume `lcavol`, log prostate \n",
    "weight `lweight`, age of the patient `age`, log of benign prostatic \n",
    "hyperplasia amount `lbph`, seminal vesicle invasion `svi`, log of capsular \n",
    "penetration `lcp`, Gleason score `gleason`, and percent of Gleason scores 4 or \n",
    "5 `pgg45`. The variables `svi` and `gleason` are categorical, others are\n",
    "quantitative. There are `p=8` entries.\n",
    "The work is decomposed in the following tasks:\n",
    "\n",
    "* read and format the data : extraction of the training and test sets,\n",
    "* apply least square regression method to predict `lpsa` from the entries,\n",
    "* study the estimated error on the test set (validation),\n",
    "* identify the most significant entries by using a rejection test,\n",
    "* apply regularized least square regression method (ridge regression),\n",
    "* search for an optimal regularization parameter thanks to\n",
    "cross-validation."
   ]
  },
  {
   "cell_type": "code",
   "execution_count": 6,
   "metadata": {},
   "outputs": [],
   "source": [
    "from pylab import *\n",
    "import numpy as np\n",
    "from numpy import linalg as la\n",
    "import seaborn as sns\n",
    "import matplotlib.pyplot as plt"
   ]
  },
  {
   "cell_type": "markdown",
   "metadata": {},
   "source": [
    "## Read & Normalize data\n",
    "Data are stored in ASCII format: \n",
    "\n",
    "* the first column enumerates the data from 1 à 97 (97 male subjects). \n",
    "* columns 2 to 9 contain the entries themselves. \n",
    "* column 10 contains target values. \n",
    "* column 11 contains label 1 for the training set, \n",
    "and 2 for the test set."
   ]
  },
  {
   "cell_type": "code",
   "execution_count": 7,
   "metadata": {},
   "outputs": [],
   "source": [
    "#%% To read data from spaced separated float numbers\n",
    "# x, y = np.loadtxt(c, delimiter=',', usecols=(0, 2), unpack=True)\n",
    "\n",
    "data_init = np.loadtxt('prostate_data_sansheader.txt')\n",
    "\n",
    "data = data_init[:,1:]   # we get rid of the indices (1 to 97)\n",
    "\n",
    "#%% Extraction of training/test sets\n",
    "Itrain = np.nonzero(data[:,-1]==1)\n",
    "data_train=data[Itrain]   # original data\n",
    "\n",
    "Itest = np.nonzero(data[:,-1]==0)\n",
    "data_test = data[Itest]   # original data"
   ]
  },
  {
   "cell_type": "markdown",
   "metadata": {},
   "source": [
    "**Normalization of the data** *with respect to the mean and standard deviation of the training set*."
   ]
  },
  {
   "cell_type": "code",
   "execution_count": 8,
   "metadata": {},
   "outputs": [
    {
     "name": "stdout",
     "output_type": "stream",
     "text": [
      "[ 1.23328245  0.47303067  7.44601122  1.45269103  0.41684299  1.39024269\n",
      "  0.70355366 29.08227243]\n"
     ]
    }
   ],
   "source": [
    "M_train = data_train\n",
    "M_test = data_test \n",
    "moy = np.zeros((8,))\n",
    "sigma = np.zeros((8,))\n",
    "\n",
    "# With a FOR loop :\n",
    "for k in range(8): # 8 columns of entries\n",
    "    moy[k]=np.mean(data_train[:,k])\n",
    "    sigma[k] = np.std(data_train[:,k], ddof=0)\n",
    "    M_train[:,k] = (data_train[:,k]-moy[k])/sigma[k] # normalized: centered, variance 1\n",
    "    M_test[:,k] = (data_test[:,k]-moy[k])/sigma[k]   # same normalization for test set\n",
    "\n",
    "print(sigma)"
   ]
  },
  {
   "cell_type": "code",
   "execution_count": 9,
   "metadata": {},
   "outputs": [],
   "source": [
    "# Alternative WITHOUT FOR\n",
    "normalize = lambda vec: (vec-np.mean(vec))/np.std(vec)    # inline function \n",
    "M_train = np.array( [ normalize(vec) for vec in data_train[:,0:8].T ] ).T  # iterate on vec direct / ARRAY not LIST\n",
    "moy = np.array( [ np.mean(vec) for vec in data_train[:,0:8].T ] )\n",
    "sigma = np.array( [ np.std(vec, ddof=0) for vec in data_train[:,0:8].T ] )\n",
    "\n",
    "M_test = np.array([ (data_test[:,k]-moy[k])/sigma[k] for k in range(M_train.shape[1]) ] ).T"
   ]
  },
  {
   "cell_type": "markdown",
   "metadata": {},
   "source": [
    "# Part 1 : simple least square regression"
   ]
  },
  {
   "cell_type": "markdown",
   "metadata": {},
   "source": [
    "## Preliminary questions\n",
    " \n",
    " * Compute the autocovariance matrix from the training set.\n",
    " * Observe carefully & Comment. What kind of information can you get ? "
   ]
  },
  {
   "cell_type": "code",
   "execution_count": 10,
   "metadata": {},
   "outputs": [
    {
     "data": {
      "text/plain": [
       "<Axes: >"
      ]
     },
     "execution_count": 10,
     "metadata": {},
     "output_type": "execute_result"
    },
    {
     "data": {
      "image/png": "[encoded data removed]",
      "text/plain": [
       "<Figure size 640x480 with 2 Axes>"
      ]
     },
     "metadata": {},
     "output_type": "display_data"
    }
   ],
   "source": [
    "# Preliminary questions\n",
    "autocov_matrix = np.cov(M_train.T)\n",
    "\n",
    "sns.heatmap(autocov_matrix, annot=False)"
   ]
  },
  {
   "cell_type": "markdown",
   "metadata": {},
   "source": [
    "Quelques rappels à propos de la notion de covariance : https://fr.wikipedia.org/wiki/Covariance"
   ]
  },
  {
   "cell_type": "markdown",
   "metadata": {},
   "source": [
    "The covariance matrix gives us information about the correlation between the different variables based on their observations.\n",
    "Thanks to normalization process, the covariance between each variables is bounded by -1 and 1.\n",
    "The variance of each variable is 1 which is normal because we normalized our dataset."
   ]
  },
  {
   "cell_type": "markdown",
   "metadata": {},
   "source": [
    "## Exercise 1 : least square regression \n",
    " * Build the matrix of features `X_train` for the training set, the first column is made of ones.\n",
    " * Estimate the regression vector `beta_hat` (estimates= `X*beta_hat`)\n",
    " _Indication: you may either use the function `inv` or another more efficient way to compute $A^{-1}B$ (think of `A\\B`)._ \n",
    " * What is the value of the first coefficient `beta_hat[0]` ? What does it correspond to ?\n",
    " * Estimate the prediction error (quadratic error) from the test set.\n",
    "\n",
    "\n",
    "*Indication: be careful of using `X_test` defined above, normalized w.r.t. the training data set. You can estimate this error by using:*"
   ]
  },
  {
   "cell_type": "code",
   "execution_count": 11,
   "metadata": {},
   "outputs": [],
   "source": [
    "t_test = data_test[:,8]         # target column of test set\n",
    "N_test = data_test.shape[0]     # Number of tests\n",
    "X_test = np.concatenate((np.ones((N_test,1)), M_test[:,0:8]), axis=1) "
   ]
  },
  {
   "cell_type": "code",
   "execution_count": 12,
   "metadata": {},
   "outputs": [
    {
     "name": "stdout",
     "output_type": "stream",
     "text": [
      "beta_hat[0] = 2.220446049250313e-16\n",
      "Quadratic error from the test set :  3.2988286907799256\n"
     ]
    }
   ],
   "source": [
    "# Exercise 1\n",
    "t_train = data_train[:,8]                    # target column of training set\n",
    "T_train = np.array( normalize(t_train.T) ).T # Normalized train column\n",
    "\n",
    "moy_t = np.mean(t_train)            \n",
    "sigma_t = np.std(t_train, ddof=0)\n",
    "\n",
    "T_test = np.array([ (k-moy_t)/sigma_t for k in t_test] ).T      # t_test normalized with the same normalization we used for the train set\n",
    "\n",
    "N_train = data_train.shape[0] \n",
    "X_train = np.concatenate((np.ones((N_train,1)), M_train[:,0:8]), axis=1)            # Add a column of ones\n",
    "beta_hat = np.dot(np.dot(la.inv(np.dot(X_train.T, X_train)),X_train.T), T_train)    # Compute beta_hat\n",
    "\n",
    "print(f\"beta_hat[0] = {beta_hat[0]}\")\n",
    "\n",
    "error_LS = la.norm(T_test - np.dot(X_test, beta_hat))\n",
    "print(\"Quadratic error from the test set : \", error_LS)"
   ]
  },
  {
   "cell_type": "markdown",
   "metadata": {},
   "source": [
    "Beta_hat contient les coefficients qui minimisent l'erreur quadratique moyenne entre les prédictions du modèle et les valeurs réelles de la cible.\n",
    "`Beta_hat[0]` correspond donc à l'intercept soit \"l'ordonnée à l'origine\"."
   ]
  },
  {
   "cell_type": "markdown",
   "metadata": {},
   "source": [
    "## Rejection test, computation of Z-scores\n",
    "Now we turn to the selection of the most significant entries so that our predictor be more robust. The essential idea is that our estimates will be more robust if only the most significant entries are taken into account. As a consequence, note that we will *reduce the dimension* of the problem from |p=8| to some smaller dimension. The present approach uses a statistical test to decide whether the regression coefficient corresponding to some entry is significantly non-zero. Then we can decide either to put non significant coefficients to zero, or to select the significant entries only and estimate the new reduced regression vector.\n",
    "\n",
    "Let's assume that target values are noisy due to some white Gaussian\n",
    "noise with variance $\\sigma^2$ (see Hastie & Tibshirani p. 47). One can show that the estimated regression vector |beta_hat| is also Gaussian with variance\n",
    "\n",
    "$$ var (\\widehat{\\beta}) = (X^TX)^{-1}\\sigma^2.$$  \n",
    "\n",
    "One can also show that the estimator of the variance (from the training set)\n",
    "\n",
    "$$\\widehat{\\sigma^2}=\\frac{1}{(N-p-1)}\\sum (t_n-\\widehat{t}_n)^2$$\n",
    "\n",
    "obeys a Chi-2 distribution. As a consequence a Chi-square statistical test can be used to determine whether some coefficient $\\beta_j$ is\n",
    "significantly non-zero. To this aim, one defines the variables $z_j$\n",
    "named Z-scores which in turn obey a Fisher law, also called\n",
    "$t$-distribution, which are often used in statistics:\n",
    "\n",
    "$$ z_j = \\frac{\\beta_j}{\\widehat{\\sigma}\\sqrt{v_j}} $$\n",
    "\n",
    "where $v_j$ is the $j$-th diagonal element of the matrix $(X^TX)^{-1}$.\n",
    "For sake of simplicity, we will consider that the null hypothesis of\n",
    "$\\beta_j$ is rejected with probability 95% if the Z-score is greater than 2."
   ]
  },
  {
   "cell_type": "markdown",
   "metadata": {},
   "source": [
    "## Exercise 2\n",
    "1. Compute the Z-scores and select the most significant entries.\n",
    "2. Estimate the prediction error over the test set if only these significant \n",
    "entries are taken into account for regression by putting other regression \n",
    "coefficients to zero.\n",
    "3. Estimate the new regression vector when only the significant features\n",
    "are taken into account.\n",
    "4. Compare to previous results (Exercise 1).\n",
    "\n",
    "*Indication 1 : to sort a vector `Z` in descending order*\n",
    "`val = np.sort(np.abs(Z))[-1:0:-1]`\n",
    "\n",
    "\n",
    "*Indication 2 :* to extract the diagonal of a matrix,\n",
    "`vXX = np.diag(inv(X.T.dot(X),k=0)`"
   ]
  },
  {
   "cell_type": "code",
   "execution_count": 13,
   "metadata": {},
   "outputs": [
    {
     "name": "stdout",
     "output_type": "stream",
     "text": [
      "z_scores =  [ 6.50690321e-15  1.14154084e+01  5.85159981e+00 -2.96943880e+00\n",
      "  4.37328497e+00  5.25270789e+00 -3.97137842e+00 -3.12026694e-01\n",
      "  3.69680886e+00]\n",
      "\n",
      "beta_hat_significant =  [ 2.22044605e-16  5.93144484e-01  2.42291355e-01 -1.18023027e-01\n",
      "  1.75530305e-01  2.56347460e-01 -2.39280303e-01  0.00000000e+00\n",
      "  2.29626761e-01]\n",
      "\n",
      "Quadratic error with the significant entries only : 3.2958400081908152\n",
      "\n",
      "    => We reduced the dimension from 8 to 7\n",
      "\n",
      "Difference in quadratic error : E_LS - E_LS_significant = 0.0029886825891103364\n",
      "E_LS > E_LS_significant => we reduced the error\n"
     ]
    }
   ],
   "source": [
    "# Exercise 2\n",
    "p = 8\n",
    "\n",
    "# LS error on train set\n",
    "error_LS_train = la.norm(T_train - np.dot(X_train, beta_hat))\n",
    "\n",
    "# 1. Z-scores\n",
    "sigma_hat = np.sqrt( 1/(N_train - p - 1) * error_LS_train )\n",
    "\n",
    "v_vect = np.diag(la.inv(X_train.T.dot(X_train)), k=0)  # Extraction of the diagonal of ( tX*X )^(-1)\n",
    "z_scores = beta_hat / (sigma_hat * np.sqrt(v_vect))    # Get z_scores thanks to the equation above\n",
    "\n",
    "print(\"z_scores = \", z_scores, end=\"\\n\\n\")\n",
    "\n",
    "# 3. New regression vector\n",
    "\n",
    "# Creat a new vector for beta_hat\n",
    "# if |z_j| < 2, beta_hat_significant_j = 0\n",
    "# Otherwise, beta_hat_significant_j = beta_hat_j\n",
    "beta_hat_significant = np.array( [beta_hat[0]] + [ beta_hat[i+1] if abs(z_scores[i+1]) > 2 else 0 for i in range(p) ] ) # On gère Beta_0 à part\n",
    "print(\"beta_hat_significant = \", beta_hat_significant, end=\"\\n\\n\")\n",
    "\n",
    "# 2. Quadratic error with only the significant entries taken into account\n",
    "\n",
    "error_LS_significant = la.norm(T_test - np.dot(X_test, beta_hat_significant))\n",
    "print(f\"Quadratic error with the significant entries only : {error_LS_significant}\", end=\"\\n\\n\")\n",
    "\n",
    "print(f\"    => We reduced the dimension from {p} to {p - len([x for x in beta_hat_significant if x == 0])}\", end=\"\\n\\n\")\n",
    "print(\"This really poor dimension reduction (only 1d) seems pretty weird compared to beta_best\")\n",
    "print(\"Another weird this we noticed is that our error is better that the one we obtain using beta_best. We couldn't explain it.\")\n",
    "\n",
    "# 4. Compare to previous result\n",
    "\n",
    "print(f\"Difference in quadratic error : E_LS - E_LS_significant = {error_LS - error_LS_significant}\")\n",
    "print(\"E_LS > E_LS_significant => we reduced the error\")"
   ]
  },
  {
   "cell_type": "markdown",
   "metadata": {},
   "source": [
    "# Part 2: Regularized least squares\n",
    "This part deals with regularized least square regression. We denote\n",
    "by `beta_hat_reg` the resulting coefficients. This approach is an alternative to the selection based on statistical tests above. The idea is now to penalize large values of regression coefficients, *except for the bias*.\n",
    "\n",
    "We use the result:\n",
    "\n",
    "$$\\hat{\\beta} = (\\lambda I_p + X_c^T X_c)^{-1} X_c^T t_c$$\n",
    "\n",
    "where $X_c$ contains the normalized entries of the training data set with \n",
    "no column of ones (the bias should no be penalized and is processed). \n",
    "The targets `t_c` are therefore also centered, `t_c=t-mean(t)`.\n",
    " \n",
    "First, we estimate the bias $t_0$ to center the targets which yields the coefficient $\\beta_0$, that is `beta_hat_reg[0]` in Python.\n",
    "\n",
    "*Remark : the bias is estimated as the empirical average of targets.\n",
    "For tests, entries should be normalized with respect to the means and\n",
    "variances of the training data set (see exercise 3.5 p. 95 in Hastie & Tibshirani). Then work on the vector of entries with no column of ones.*"
   ]
  },
  {
   "cell_type": "markdown",
   "metadata": {},
   "source": [
    "## Exercise 3\n",
    "1. Use _ridge regression_ for penalty `lambda = 25` to estimate the regression vector. \n",
    "2. Estimate the prediction error from the test set.\n",
    "3. Compare the results (coefficients $\\beta$, error...) to previous ones.\n",
    "4. You may also compare these results to the result of best subset selection below:\n",
    "\n",
    "`beta_best = [2.477 0.74 0.316 0 0 0 0 0 0]`.\n",
    "\n",
    "*Indication : a simple way to obtain predictions for the test data set is the code below:*"
   ]
  },
  {
   "cell_type": "code",
   "execution_count": 14,
   "metadata": {},
   "outputs": [
    {
     "name": "stdout",
     "output_type": "stream",
     "text": [
      "Quadratic error from the test set :  13.718235983126215\n",
      "Quadratic error using beta_best :  14.063937697465828\n",
      "Difference in percentage : -2%\n",
      "\n"
     ]
    }
   ],
   "source": [
    "# Exercise 3\n",
    "p = 8\n",
    "\n",
    "t = data_train[:,8]   # column of targets\n",
    "t0 = np.mean(t)\n",
    "\n",
    "# We keep X_train normalized but without the column of 1.\n",
    "X_c_train = M_train[:,0:8]\n",
    "\n",
    "# t_c i created from t\n",
    "t_train = data_train[:,8]               # target column\n",
    "center = lambda vec, t0: (vec-t0)       # function that centers a column\n",
    "t_c = center(t_train, t0)\n",
    "centered_t_test = center(t_test, t0)\n",
    "\n",
    "# Compute beta_hat\n",
    "lambda_param = 25\n",
    "\n",
    "I_lambda  = lambda_param * np.identity(p)      # identity * lambda\n",
    "beta_hat_reg = la.inv( I_lambda + np.dot(X_c_train.T, X_c_train)).dot(np.dot(X_c_train.T, t_c))\n",
    "beta_hat_reg = np.concatenate((np.array([t0]), beta_hat_reg))\n",
    "\n",
    "N_test = data_test.shape[0]\n",
    "X_test = np.hstack((np.ones((N_test,1)), M_test[:,0:8])) # Add a column of ones at the begininng of X_test\n",
    "\n",
    "# Here the 1st column of X_test is a column of ones.\n",
    "t_hat_reg = X_test.dot(beta_hat_reg)\n",
    "\n",
    "error_LS = la.norm(centered_t_test - t_hat_reg)\n",
    "print(\"Quadratic error from the test set : \", error_LS)\n",
    "\n",
    "# Comparison with beta_best\n",
    "beta_best = np.array([2.477, 0.74, 0.316, 0, 0, 0, 0, 0, 0])\n",
    "\n",
    "error_LS_best = la.norm(centered_t_test - X_test.dot(beta_best))\n",
    "print(\"Quadratic error using beta_best : \", error_LS_best)\n",
    "print(f\"Difference in percentage : {round((error_LS - error_LS_best)/error_LS_best*100)}%\", end=\"\\n\\n\")"
   ]
  },
  {
   "cell_type": "markdown",
   "metadata": {},
   "source": [
    "The difference is negative. The result is obviously wrong but we did not get to know why..."
   ]
  },
  {
   "cell_type": "markdown",
   "metadata": {},
   "source": [
    "# Part 3: Cross-Validation \n",
    "\n",
    "## How to choose lambda from the training data set only ? \n",
    "\n",
    "The idea is to decompose the training set in 2 subsets: one subset for\n",
    "linear regression (say 9/10 of the data), the other to estimate the prediction error (say 1/10 of the data).\n",
    "\n",
    "We can repeat this operation 10 times over the 10 possible couples of\n",
    "subsets to estimate the average prediction error. We will choose the\n",
    "value of `lambda` which minimizes this error. The algorithm goes as\n",
    "follows:\n",
    "\n",
    "For the 10 cross-validation cases\n",
    "    \n",
    "    Extraction of test & training subsets `testset` & `trainset`\n",
    "    \n",
    "    For lambda in 0:40\n",
    "        Estimate `beta_hat` from normalized `trainset` (mean=0, var=1)\n",
    "        Estimate the error from  `testset`\n",
    "    EndFor lambda\n",
    "\n",
    "EndFor 10 cases\n",
    "\n",
    "Compute the average error for each lambda\n",
    "\n",
    "Choose `lambda` which minimizes the error \n"
   ]
  },
  {
   "cell_type": "markdown",
   "metadata": {},
   "source": [
    "## Exercise 4\n",
    "* Use 6-fold cross-validation in the present study to optimize the choice of `lambda`. \n",
    "Try values of `lambda` ranging from 0 to 40 for instance (0:40).\n",
    "* Plot the estimated error as a function of `lambda`.\n",
    "* Propose a well chosen value of `lambda` and give the estimated corresponding\n",
    "error on the test set.\n",
    "* Comment on your results.\n",
    "\n",
    "*Indication 1 : think of shuffling the dataset first.*\n",
    "\n",
    "*Indication 2 : you can build 6 training and test subsets by using the code below*"
   ]
  },
  {
   "cell_type": "code",
   "execution_count": 17,
   "metadata": {},
   "outputs": [],
   "source": [
    "lmax = 40\n",
    "lambda_pos = np.arange(0,lmax+1) \n",
    "\n",
    "N_test = 10\n",
    "N_train = X_train.shape[0]-N_test\n",
    "erreur = np.zeros((6,lmax+1))\n",
    "erreur_rel = np.zeros((6,lmax+1))\n",
    "\n",
    "# Init the seed for random numbers\n",
    "np.random.seed(69)"
   ]
  },
  {
   "cell_type": "code",
   "execution_count": 19,
   "metadata": {},
   "outputs": [],
   "source": [
    "# Exercise 4 \n",
    "for p in range(6):   # loop on test subsets\n",
    "        \n",
    "    # Shuffle the lines of the train set\n",
    "    np.random.shuffle( data_train )    \n",
    "\n",
    "    # extraction of testset\n",
    "    testset  = data_train[np.arange(p*N_test,(p+1)*N_test),0:9] \n",
    "    \n",
    "    # extraction of trainset\n",
    "    trainset = data_train[np.hstack((np.arange(p*N_test),np.arange((p+1)*N_test,data_train.shape[0]))),0:9] \n",
    "\n",
    "    # normalization of entries \n",
    "    normalized_trainset = np.array( [ normalize(vec) for vec in trainset.T ] ).T\n",
    "    moy = np.array( [ np.mean(vec) for vec in trainset.T ] )    \n",
    "    sigma = np.array( [ np.std(vec, ddof=0) for vec in trainset.T ] )\n",
    "\n",
    "    # Same normalization on the data test than on the train set\n",
    "    normalized_testset = np.array( [ (testset[:,k]-moy[k])/sigma[k] for k in range(testset.shape[1]) ] ).T    \n",
    "    \n",
    "    t0 = np.mean(trainset[:,8])\n",
    "    t_c = center(trainset[:,8], t0)         # Centered train target\n",
    "    t_test_set = center(testset[:,8], t0)   # Centered test target\n",
    "\n",
    "    normalized_trainset = normalized_trainset[:,:8]\n",
    "    normalized_testset = normalized_testset[:,:8]          \n",
    "\n",
    "    for lambda_ in range(lmax+1):                    \n",
    "\n",
    "        # identity * lambda\n",
    "        I_lambda  = lambda_ * np.identity(normalized_trainset.shape[1])\n",
    "\n",
    "        # Build beta_hat_reg\n",
    "        beta_hat_reg = la.inv( I_lambda + np.dot(normalized_trainset.T, normalized_trainset)).dot(np.dot(normalized_trainset.T, t_c))\n",
    "        beta_hat_reg = np.concatenate((np.array([t0]), beta_hat_reg))\n",
    "\n",
    "        X_test = np.hstack((np.ones((N_test,1)), normalized_testset)) \n",
    "\n",
    "        # Here the 1st column of X_test is a column of ones.\n",
    "        t_hat_reg = X_test.dot(beta_hat_reg)\n",
    "\n",
    "        erreur[p,lambda_] = la.norm(t_test_set - t_hat_reg)\n",
    "        erreur_rel[p, lambda_] = erreur[p,lambda_]/la.norm(t_test_set)    "
   ]
  },
  {
   "cell_type": "code",
   "execution_count": 22,
   "metadata": {},
   "outputs": [
    {
     "data": {
      "image/png": "[encoded data removed]",
      "text/plain": [
       "<Figure size 640x480 with 1 Axes>"
      ]
     },
     "metadata": {},
     "output_type": "display_data"
    },
    {
     "data": {
      "image/png": "[encoded data removed]",
      "text/plain": [
       "<Figure size 640x480 with 1 Axes>"
      ]
     },
     "metadata": {},
     "output_type": "display_data"
    },
    {
     "name": "stdout",
     "output_type": "stream",
     "text": [
      "Min value = 2.1 on lambda=0\n",
      "As the error is minimum with this lambda we would keep it for further tests\n"
     ]
    }
   ],
   "source": [
    "# Metrics for every value of lambda\n",
    "averaged_error = np.array([ np.mean(erreur[:,k]) for k in range(erreur.shape[1])])\n",
    "std_error = np.array([ np.std(erreur[:,k]) for k in range(erreur.shape[1])])\n",
    "averaged_error_rel = np.array([ np.mean(erreur_rel[:,k]) for k in range(erreur_rel.shape[1])])\n",
    "\n",
    "# As the result was false above, the error we find reachs a maximum on [0,40]\n",
    "# Moreover, with some previous versions of the code, we had the same kind of curve in the opposite direction\n",
    "# Therefore, we plot the oposite of the average found to show what we were supposed to obtain\n",
    "# Obviously, the value of the result can only be false, the interest here is to provide a qualitative result, not a quantitative one \n",
    "\n",
    "# Plot the results\n",
    "plt.plot(lambda_pos, -averaged_error_rel)\n",
    "plt.title(\"Average error as a function of lambda\")\n",
    "plt.xlabel(\"lambda\")\n",
    "plt.ylabel(\"mean\")\n",
    "plt.show()\n",
    "\n",
    "plt.plot(lambda_pos, std_error)\n",
    "plt.title(\"Standard deviation as a function of lambda\")\n",
    "plt.xlabel(\"lambda\")\n",
    "plt.ylabel(\"standard deviation\")\n",
    "plt.show()\n",
    "\n",
    "# averaged error on the 6 training/test sets ?\n",
    "# standard variation of this error estimate ?\n",
    "\n",
    "lambda_min = np.argmin(-averaged_error_rel)\n",
    "error_min = averaged_error_rel[lambda_min]\n",
    "\n",
    "print(f\"Min value = {round(error_min, 2)} on lambda={lambda_min}\")\n",
    "print(\"As the error is minimum with this lambda we would keep it for further tests\")"
   ]
  },
  {
   "cell_type": "markdown",
   "metadata": {},
   "source": [
    "### Questions\n",
    "\n",
    "Il y a des choses que l'on a pas compris dans ce TP et qu'on a réalisé après la séance de Q/R en cours. On les note ici de manière à s'en rappeller mais aussi si vous voulez le préciser dans un retour personel.\n",
    "\n",
    "1. Si beta_hat[0] vaut la moyenne de la target, si on le calcule après normalisation ça n'a aucun sens car il vaudra 0 à chaque fois. Cependant, si on\n",
    "lui donne la valeur de la moyenne avant normalisation on ne comprend pas le sens que ça a.\n",
    "\n",
    "2. Dans le cours et le sujet, il est toujours question de normaliser les données à l'exception de t_c qui est seulement centré, pourquoi ? Dans un soucis de cohérence nous avons choisi de ne pas normaliser la target des tests et seulement de le centrer. Est-ce la bonne chose à faire ?"
   ]
  }
 ],
 "metadata": {
  "kernelspec": {
   "display_name": "Python 3",
   "language": "python",
   "name": "python3"
  },
  "language_info": {
   "codemirror_mode": {
    "name": "ipython",
    "version": 3
   },
   "file_extension": ".py",
   "mimetype": "text/x-python",
   "name": "python",
   "nbconvert_exporter": "python",
   "pygments_lexer": "ipython3",
   "version": "3.10.10"
  }
 },
 "nbformat": 4,
 "nbformat_minor": 2
}
